{
 "cells": [
  {
   "cell_type": "code",
   "execution_count": 1,
   "metadata": {},
   "outputs": [],
   "source": [
    "# Create a new set of 2,000 random latitudes and Longitudes\n",
    "#Get the neaest city using citipy\n",
    "#Perform and API call with OpenWeatherMap\n",
    "#Retreive the following information from the API Call: \n",
    "#Latitude and Longitude,Maximum Temperature, Percent Humidity, Percent Cloudiness, Wind Speed,Weaterh Description.  \n",
    "from citipy import citipy\n",
    "import numpy as np\n",
    "import pandas as pd"
   ]
  },
  {
   "cell_type": "code",
   "execution_count": 2,
   "metadata": {},
   "outputs": [],
   "source": [
    "# Create a set of random latitude and longitude combinations.\n",
    "lats = np.random.uniform(low=-60.000, high=90.000, size=2000)\n",
    "lngs = np.random.uniform(low=-125.000, high=190.000, size=2000)\n",
    "lat_lngs = zip(lats, lngs)"
   ]
  },
  {
   "cell_type": "code",
   "execution_count": 3,
   "metadata": {},
   "outputs": [],
   "source": [
    "# Add the latitudes and longitudes to a list.\n",
    "coordinates = list(lat_lngs)"
   ]
  },
  {
   "cell_type": "code",
   "execution_count": 4,
   "metadata": {},
   "outputs": [
    {
     "data": {
      "text/plain": [
       "925"
      ]
     },
     "execution_count": 4,
     "metadata": {},
     "output_type": "execute_result"
    }
   ],
   "source": [
    "# Create a list for holding the cities.\n",
    "cities = []\n",
    "\n",
    "\n",
    "# Identify nearest city for each latitude and longitude combination\n",
    "for coordinate in coordinates:\n",
    "    city = citipy.nearest_city(coordinate[0], coordinate[1]).city_name\n",
    "    \n",
    "    # If the city is unique, then add it to a our cities list\n",
    "    if city not in cities:\n",
    "        cities.append(city)\n",
    "\n",
    "# Print the city count to confirm sufficient count\n",
    "len(cities)"
   ]
  },
  {
   "cell_type": "code",
   "execution_count": 5,
   "metadata": {},
   "outputs": [],
   "source": [
    "# Import the requests library.\n",
    "import requests\n",
    "\n",
    "# Import the time library.\n",
    "import time\n",
    "\n",
    "# Import the datetime module from the datetime library.\n",
    "from datetime import datetime\n",
    "\n",
    "# Import the API key.\n",
    "from config import weather_api_key"
   ]
  },
  {
   "cell_type": "code",
   "execution_count": 6,
   "metadata": {},
   "outputs": [],
   "source": [
    "# Starting URL for Weather Map API Call.\n",
    "url = \"http://api.openweathermap.org/data/2.5/weather?units=Imperial&APPID=\" + \"b4b432a06406fcca5949d2e4ee7a565f\""
   ]
  },
  {
   "cell_type": "markdown",
   "metadata": {},
   "source": [
    "### Retrieve the following information from the API call.\n",
    "    - The latitude and longitude\n",
    "    - The Max temperature\n",
    "    - The % humidity\n",
    "    - The % cloudiness\n",
    "    - The Wind speed\n",
    "    - The Weather description, i.e., cloudy, fog, light rain, clear sky, etc. "
   ]
  },
  {
   "cell_type": "code",
   "execution_count": null,
   "metadata": {
    "scrolled": true
   },
   "outputs": [
    {
     "name": "stdout",
     "output_type": "stream",
     "text": [
      "Beginning Data Retrieval     \n",
      "-----------------------------\n",
      "Processing Record 1 of Set 1 | carbonia\n",
      "Processing Record 2 of Set 1 | altay\n",
      "Processing Record 3 of Set 1 | patan\n",
      "Processing Record 4 of Set 1 | noumea\n",
      "Processing Record 5 of Set 1 | nuuk\n",
      "Processing Record 6 of Set 1 | amderma\n",
      "City not found. Skipping...\n",
      "Processing Record 7 of Set 1 | mount isa\n",
      "Processing Record 8 of Set 1 | tasiilaq\n",
      "Processing Record 9 of Set 1 | chokurdakh\n",
      "Processing Record 10 of Set 1 | belushya guba\n",
      "City not found. Skipping...\n",
      "Processing Record 11 of Set 1 | pisco\n",
      "Processing Record 12 of Set 1 | hohhot\n",
      "Processing Record 13 of Set 1 | lorengau\n",
      "Processing Record 14 of Set 1 | atar\n",
      "Processing Record 15 of Set 1 | khonuu\n",
      "City not found. Skipping...\n",
      "Processing Record 16 of Set 1 | nikolskoye\n",
      "Processing Record 17 of Set 1 | dolinsk\n",
      "Processing Record 18 of Set 1 | bay roberts\n",
      "Processing Record 19 of Set 1 | kandi\n",
      "Processing Record 20 of Set 1 | mar del plata\n",
      "Processing Record 21 of Set 1 | kieta\n",
      "Processing Record 22 of Set 1 | qaanaaq\n",
      "Processing Record 23 of Set 1 | saint george\n",
      "Processing Record 24 of Set 1 | jamestown\n",
      "Processing Record 25 of Set 1 | katsuura\n",
      "Processing Record 26 of Set 1 | komsomolskiy\n",
      "Processing Record 27 of Set 1 | ponta do sol\n",
      "Processing Record 28 of Set 1 | saint-joseph\n",
      "Processing Record 29 of Set 1 | toucheng\n",
      "Processing Record 30 of Set 1 | rikitea\n",
      "Processing Record 31 of Set 1 | calama\n",
      "Processing Record 32 of Set 1 | sangar\n",
      "Processing Record 33 of Set 1 | kaeo\n",
      "Processing Record 34 of Set 1 | ambilobe\n",
      "Processing Record 35 of Set 1 | leningradskiy\n",
      "Processing Record 36 of Set 1 | megion\n",
      "Processing Record 37 of Set 1 | ottawa\n",
      "Processing Record 38 of Set 1 | puerto madryn\n",
      "Processing Record 39 of Set 1 | ahipara\n",
      "Processing Record 40 of Set 1 | baykit\n",
      "Processing Record 41 of Set 1 | panjab\n",
      "Processing Record 42 of Set 1 | schuttorf\n",
      "Processing Record 43 of Set 1 | brae\n",
      "Processing Record 44 of Set 1 | yar-sale\n",
      "Processing Record 45 of Set 1 | port moresby\n",
      "Processing Record 46 of Set 1 | thompson\n",
      "Processing Record 47 of Set 1 | kiunga\n",
      "Processing Record 48 of Set 1 | ekibastuz\n",
      "Processing Record 49 of Set 1 | nizhneyansk\n",
      "City not found. Skipping...\n",
      "Processing Record 50 of Set 1 | dikson\n",
      "Processing Record 1 of Set 2 | traralgon\n",
      "Processing Record 2 of Set 2 | clyde river\n",
      "Processing Record 3 of Set 2 | inhambane\n",
      "Processing Record 4 of Set 2 | kyzyl-suu\n",
      "Processing Record 5 of Set 2 | butaritari\n",
      "Processing Record 6 of Set 2 | aktash\n",
      "Processing Record 7 of Set 2 | bubaque\n",
      "Processing Record 8 of Set 2 | yellowknife\n",
      "Processing Record 9 of Set 2 | shimoda\n",
      "Processing Record 10 of Set 2 | am timan\n",
      "Processing Record 11 of Set 2 | valle de allende\n",
      "Processing Record 12 of Set 2 | marsh harbour\n",
      "Processing Record 13 of Set 2 | malwan\n",
      "City not found. Skipping...\n",
      "Processing Record 14 of Set 2 | hervey bay\n",
      "Processing Record 15 of Set 2 | illoqqortoormiut\n",
      "City not found. Skipping...\n",
      "Processing Record 16 of Set 2 | tumannyy\n",
      "City not found. Skipping...\n",
      "Processing Record 17 of Set 2 | tortoli\n",
      "Processing Record 18 of Set 2 | bandarbeyla\n",
      "Processing Record 19 of Set 2 | saint-philippe\n",
      "Processing Record 20 of Set 2 | mount gambier\n",
      "Processing Record 21 of Set 2 | coquimbo\n",
      "Processing Record 22 of Set 2 | hasaki\n",
      "Processing Record 23 of Set 2 | ribeira grande\n",
      "Processing Record 24 of Set 2 | camacha\n",
      "Processing Record 25 of Set 2 | hobart\n",
      "Processing Record 26 of Set 2 | bolungarvik\n",
      "City not found. Skipping...\n",
      "Processing Record 27 of Set 2 | kalmunai\n",
      "Processing Record 28 of Set 2 | bathsheba\n",
      "Processing Record 29 of Set 2 | puerto ayora\n",
      "Processing Record 30 of Set 2 | khatanga\n",
      "Processing Record 31 of Set 2 | tual\n",
      "Processing Record 32 of Set 2 | arraial do cabo\n",
      "Processing Record 33 of Set 2 | mlonggo\n",
      "Processing Record 34 of Set 2 | velestinon\n",
      "City not found. Skipping...\n",
      "Processing Record 35 of Set 2 | talnakh\n",
      "Processing Record 36 of Set 2 | tura\n",
      "Processing Record 37 of Set 2 | cape canaveral\n",
      "Processing Record 38 of Set 2 | primo tapia\n",
      "Processing Record 39 of Set 2 | cidreira\n",
      "Processing Record 40 of Set 2 | taolanaro\n",
      "City not found. Skipping...\n",
      "Processing Record 41 of Set 2 | kita\n",
      "Processing Record 42 of Set 2 | thanh hoa\n",
      "Processing Record 43 of Set 2 | bambous virieux\n",
      "Processing Record 44 of Set 2 | te anau\n",
      "Processing Record 45 of Set 2 | port-gentil\n",
      "Processing Record 46 of Set 2 | vao\n",
      "Processing Record 47 of Set 2 | barentsburg\n",
      "City not found. Skipping...\n",
      "Processing Record 48 of Set 2 | bitam\n",
      "Processing Record 49 of Set 2 | ankang\n",
      "Processing Record 50 of Set 2 | golyshmanovo\n",
      "Processing Record 1 of Set 3 | novyy urengoy\n",
      "Processing Record 2 of Set 3 | pevek\n",
      "Processing Record 3 of Set 3 | changji\n",
      "Processing Record 4 of Set 3 | mahebourg\n",
      "Processing Record 5 of Set 3 | hithadhoo\n",
      "Processing Record 6 of Set 3 | byron bay\n",
      "Processing Record 7 of Set 3 | victoria\n",
      "Processing Record 8 of Set 3 | bijawar\n",
      "Processing Record 9 of Set 3 | rach gia\n",
      "Processing Record 10 of Set 3 | yumen\n",
      "Processing Record 11 of Set 3 | bereznik\n",
      "Processing Record 12 of Set 3 | kavieng\n",
      "Processing Record 13 of Set 3 | lakes entrance\n",
      "Processing Record 14 of Set 3 | qostanay\n",
      "Processing Record 15 of Set 3 | poum\n",
      "Processing Record 16 of Set 3 | gubkinskiy\n",
      "Processing Record 17 of Set 3 | miles city\n",
      "Processing Record 18 of Set 3 | san cristobal\n",
      "Processing Record 19 of Set 3 | jaggayyapeta\n",
      "Processing Record 20 of Set 3 | maragogi\n",
      "Processing Record 21 of Set 3 | urengoy\n",
      "Processing Record 22 of Set 3 | ushuaia\n",
      "Processing Record 23 of Set 3 | saldanha\n",
      "Processing Record 24 of Set 3 | souillac\n",
      "Processing Record 25 of Set 3 | grand river south east\n",
      "City not found. Skipping...\n",
      "Processing Record 26 of Set 3 | the valley\n",
      "Processing Record 27 of Set 3 | cabo san lucas\n",
      "Processing Record 28 of Set 3 | ligayan\n",
      "Processing Record 29 of Set 3 | santa luzia\n",
      "Processing Record 30 of Set 3 | loviisa\n",
      "Processing Record 31 of Set 3 | lebu\n",
      "Processing Record 32 of Set 3 | alice springs\n",
      "Processing Record 33 of Set 3 | menongue\n",
      "Processing Record 34 of Set 3 | saskylakh\n",
      "Processing Record 35 of Set 3 | tadine\n",
      "Processing Record 36 of Set 3 | sentyabrskiy\n",
      "City not found. Skipping...\n",
      "Processing Record 37 of Set 3 | nyurba\n",
      "Processing Record 38 of Set 3 | narsaq\n",
      "Processing Record 39 of Set 3 | dogondoutchi\n",
      "Processing Record 40 of Set 3 | pringsewu\n",
      "Processing Record 41 of Set 3 | georgetown\n",
      "Processing Record 42 of Set 3 | albany\n",
      "Processing Record 43 of Set 3 | new norfolk\n",
      "Processing Record 44 of Set 3 | puerto colombia\n",
      "Processing Record 45 of Set 3 | praia da vitoria\n",
      "Processing Record 46 of Set 3 | tuatapere\n",
      "Processing Record 47 of Set 3 | naze\n",
      "Processing Record 48 of Set 3 | karaul\n",
      "City not found. Skipping...\n",
      "Processing Record 49 of Set 3 | esperance\n",
      "Processing Record 50 of Set 3 | mackay\n"
     ]
    }
   ],
   "source": [
    "# List of city data\n",
    "city_data = []\n",
    "\n",
    "# Print to logger\n",
    "print(\"Beginning Data Retrieval     \")\n",
    "print(\"-----------------------------\")\n",
    "\n",
    "# Create counters\n",
    "record_count = 1\n",
    "set_count = 1\n",
    "\n",
    "# Loop through all the cities in our list\n",
    "for i, city in enumerate(cities):\n",
    "        \n",
    "    # Group cities in sets of 50 for logging purposes\n",
    "    if (i % 50 == 0 and i >= 50):\n",
    "        set_count += 1\n",
    "        record_count = 1\n",
    "        time.sleep(60)\n",
    "\n",
    "    # Create endpoint URL with each city\n",
    "    city_url = url + \"&q=\" + city.replace(\" \",\"+\")\n",
    "    \n",
    "    # Log the url, record, and set numbers\n",
    "    print(f\"Processing Record {record_count} of Set {set_count} | {city}\")\n",
    "\n",
    "    # Add 1 to the record count\n",
    "    record_count += 1\n",
    "\n",
    "    # Run an API request for each of the cities\n",
    "    try:\n",
    "        city_weather = requests.get(city_url).json()\n",
    "        # Parse out the max temp, humidity, and cloudiness\n",
    "        city_lat = city_weather[\"coord\"][\"lat\"]\n",
    "        city_lng = city_weather[\"coord\"][\"lon\"]\n",
    "        city_max_temp = city_weather[\"main\"][\"temp_max\"]\n",
    "        city_humidity = city_weather[\"main\"][\"humidity\"]\n",
    "        city_clouds = city_weather[\"clouds\"][\"all\"]\n",
    "        city_wind = city_weather[\"wind\"][\"speed\"]\n",
    "        city_country = city_weather[\"sys\"][\"country\"]\n",
    "        city_weather_description = city_weather[\"weather\"][0][\"description\"]       \n",
    "            \n",
    "            # Append the City information into city_data list\n",
    "        city_data.append({\"City\": city.title(), \n",
    "                          \"Lat\": city_lat, \n",
    "                          \"Lng\": city_lng, \n",
    "                          \"Max Temp\": city_max_temp,\n",
    "                          \"Current Description\": city_weather_description,\n",
    "                          \"Humidity\": city_humidity,\n",
    "                          \"Cloudiness\": city_clouds,\n",
    "                          \"Wind Speed\": city_wind,\n",
    "                          \"Country\": city_country})\n",
    "    # If an error is experienced, skip the city\n",
    "\n",
    "    except:\n",
    "        print(\"City not found. Skipping...\")\n",
    "        pass\n",
    "\n",
    "# Indicate that Data Loading is complete \n",
    "print(\"-----------------------------\")\n",
    "print(\"Data Retrieval Complete      \")\n",
    "print(\"-----------------------------\")"
   ]
  },
  {
   "cell_type": "code",
   "execution_count": null,
   "metadata": {},
   "outputs": [],
   "source": [
    "len(city_data)"
   ]
  },
  {
   "cell_type": "code",
   "execution_count": null,
   "metadata": {},
   "outputs": [],
   "source": [
    "# Convert array of dictionaries to a pandas DataFrame.\n",
    "city_data_df = pd.DataFrame(city_data)"
   ]
  },
  {
   "cell_type": "code",
   "execution_count": null,
   "metadata": {
    "scrolled": false
   },
   "outputs": [],
   "source": [
    "city_data_df.head(10)\n"
   ]
  },
  {
   "cell_type": "code",
   "execution_count": null,
   "metadata": {},
   "outputs": [],
   "source": [
    "city_data_df.columns"
   ]
  },
  {
   "cell_type": "code",
   "execution_count": null,
   "metadata": {},
   "outputs": [],
   "source": [
    "# Reorder the columns in the order you want them to appear.\n",
    "new_column_order = [\"City\", \"Country\", \"Lat\",\n",
    "                    \"Lng\", \"Max Temp\", \"Humidity\", \n",
    "                    \"Cloudiness\", \"Wind Speed\", \n",
    "                    \"Current Description\"] \n",
    "\n",
    "# Assign a new or the same DataFrame the new column order.\n",
    "city_data_df = city_data_df[new_column_order]\n",
    "city_data_df.head(10)"
   ]
  },
  {
   "cell_type": "code",
   "execution_count": null,
   "metadata": {},
   "outputs": [],
   "source": [
    "city_data_df.dtypes"
   ]
  },
  {
   "cell_type": "code",
   "execution_count": null,
   "metadata": {},
   "outputs": [],
   "source": [
    "# Create the output File (CSV)\n",
    "output_data_file = \"Weather_Database/WeatherPy_Database.csv\"\n",
    "# Export the city_data into a csv\n",
    "city_data_df.to_csv(output_data_file, index_label=\"City_ID\")"
   ]
  },
  {
   "cell_type": "code",
   "execution_count": null,
   "metadata": {},
   "outputs": [],
   "source": []
  }
 ],
 "metadata": {
  "kernelspec": {
   "display_name": "Python 3 (ipykernel)",
   "language": "python",
   "name": "python3"
  },
  "language_info": {
   "codemirror_mode": {
    "name": "ipython",
    "version": 3
   },
   "file_extension": ".py",
   "mimetype": "text/x-python",
   "name": "python",
   "nbconvert_exporter": "python",
   "pygments_lexer": "ipython3",
   "version": "3.9.7"
  }
 },
 "nbformat": 4,
 "nbformat_minor": 2
}
